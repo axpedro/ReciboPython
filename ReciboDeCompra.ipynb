{
 "cells": [
  {
   "cell_type": "markdown",
   "id": "542b99a7",
   "metadata": {},
   "source": [
    "Projeto para geração de recibo"
   ]
  },
  {
   "cell_type": "code",
   "execution_count": 1,
   "id": "45400aef",
   "metadata": {},
   "outputs": [
    {
     "name": "stdout",
     "output_type": "stream",
     "text": [
      "Digite a descrição do projeto: Projeto em Python\n",
      "Digite o total de horas estimadas: 60\n",
      "Digite o valor da hora trabalhada: 35\n",
      "Digite o prazo estimado: 12\n"
     ]
    }
   ],
   "source": [
    "projeto = input(\"Digite a descrição do projeto: \")\n",
    "horas_estimadas = input(\"Digite o total de horas estimadas: \")\n",
    "valor_hora = input(\"Digite o valor da hora trabalhada: \")\n",
    "prazo_estimado = input(\"Digite o prazo estimado: \")\n"
   ]
  },
  {
   "cell_type": "markdown",
   "id": "90be5884",
   "metadata": {},
   "source": [
    "Cálculo do valor estimado"
   ]
  },
  {
   "cell_type": "code",
   "execution_count": 3,
   "id": "6f759216",
   "metadata": {},
   "outputs": [
    {
     "name": "stdout",
     "output_type": "stream",
     "text": [
      "2100\n"
     ]
    }
   ],
   "source": [
    "valor_total_estimado = int(horas_estimadas) * int(valor_hora)\n",
    "print(valor_total_estimado)\n"
   ]
  },
  {
   "cell_type": "code",
   "execution_count": 4,
   "id": "aa0b57a6",
   "metadata": {},
   "outputs": [
    {
     "name": "stdout",
     "output_type": "stream",
     "text": [
      "Collecting fpdf\n",
      "  Downloading fpdf-1.7.2.tar.gz (39 kB)\n",
      "  Preparing metadata (setup.py) ... \u001b[?25ldone\n",
      "\u001b[?25hBuilding wheels for collected packages: fpdf\n",
      "  Building wheel for fpdf (setup.py) ... \u001b[?25ldone\n",
      "\u001b[?25h  Created wheel for fpdf: filename=fpdf-1.7.2-py2.py3-none-any.whl size=40705 sha256=3dbf559560dad1ac1ec64530dc797bfe90792b00cf1ce622458ff3a6a060f1c0\n",
      "  Stored in directory: /Users/pedroxavier/Library/Caches/pip/wheels/44/35/8b/86ce00cec7e4d13c5f189680ae0fa82f919bedc066c2cddae9\n",
      "Successfully built fpdf\n",
      "Installing collected packages: fpdf\n",
      "Successfully installed fpdf-1.7.2\n"
     ]
    }
   ],
   "source": [
    "!pip install fpdf\n"
   ]
  },
  {
   "cell_type": "code",
   "execution_count": 5,
   "id": "31caa159",
   "metadata": {},
   "outputs": [],
   "source": [
    "from fpdf import FPDF\n"
   ]
  },
  {
   "cell_type": "code",
   "execution_count": 23,
   "id": "974b4030",
   "metadata": {},
   "outputs": [],
   "source": [
    "pdf = FPDF()\n",
    "pdf.add_page()\n",
    "pdf.set_font(\"Arial\")"
   ]
  },
  {
   "cell_type": "code",
   "execution_count": 24,
   "id": "0f0ce2b8",
   "metadata": {},
   "outputs": [],
   "source": [
    "pdf.image(\"template.png\", x=0, y=0 )"
   ]
  },
  {
   "cell_type": "code",
   "execution_count": 25,
   "id": "db25302c",
   "metadata": {},
   "outputs": [],
   "source": [
    "pdf.text(115, 145, projeto)\n",
    "pdf.text(115, 160, horas_estimadas)\n",
    "pdf.text(115, 175, valor_hora)\n",
    "pdf.text(115, 190, prazo_estimado)\n",
    "pdf.text(115, 205, str(valor_total_estimado))"
   ]
  },
  {
   "cell_type": "code",
   "execution_count": 26,
   "id": "68a7fffb",
   "metadata": {},
   "outputs": [
    {
     "name": "stdout",
     "output_type": "stream",
     "text": [
      "Orçamento gerado com sucesso!\n"
     ]
    }
   ],
   "source": [
    "pdf.output(\"orçamento.pdf\")\n",
    "print(\"Orçamento gerado com sucesso!\")"
   ]
  },
  {
   "cell_type": "code",
   "execution_count": null,
   "id": "bda0d617",
   "metadata": {},
   "outputs": [],
   "source": []
  }
 ],
 "metadata": {
  "kernelspec": {
   "display_name": "Python 3 (ipykernel)",
   "language": "python",
   "name": "python3"
  },
  "language_info": {
   "codemirror_mode": {
    "name": "ipython",
    "version": 3
   },
   "file_extension": ".py",
   "mimetype": "text/x-python",
   "name": "python",
   "nbconvert_exporter": "python",
   "pygments_lexer": "ipython3",
   "version": "3.9.13"
  }
 },
 "nbformat": 4,
 "nbformat_minor": 5
}
